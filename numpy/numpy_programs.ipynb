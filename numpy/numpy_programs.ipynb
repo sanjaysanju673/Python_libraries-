{
 "cells": [
  {
   "cell_type": "markdown",
   "metadata": {},
   "source": [
    "'''\n",
    "@Author: v sanjay kumar<br>\n",
    "@Date: 2024-08-06 02:30:30<br>\n",
    "@Last Modified by: v sanjay kumar<br>\n",
    "@Last Modified time: 2024-08-06 02:30:30.<br>\n",
    "@Title :Python programs of the numpy<br>\n",
    "\n",
    "'''"
   ]
  },
  {
   "cell_type": "code",
   "execution_count": 156,
   "metadata": {},
   "outputs": [],
   "source": [
    "import numpy as np\n",
    "import random\n",
    "import sys\n"
   ]
  },
  {
   "cell_type": "markdown",
   "metadata": {},
   "source": [
    "### 1.Write a Python program to convert a list of numeric value into a one-dimensional\n",
    "Expected Output: <br>\n",
    "Original List: [12.23, 13.32, 100, 36.32] <br>\n",
    "One-dimensional numpy array: [ 12.23 13.32 100. 36.32] <br>\n",
    "\n"
   ]
  },
  {
   "cell_type": "code",
   "execution_count": 157,
   "metadata": {},
   "outputs": [
    {
     "name": "stdout",
     "output_type": "stream",
     "text": [
      "[ 12.23  13.32 100.    36.32]\n"
     ]
    }
   ],
   "source": [
    "def main():\n",
    "    lis = [12.23, 13.32, 100, 36.32]\n",
    "    array = np.array(lis)\n",
    "    print(array)\n",
    "\n",
    "\n",
    "if __name__ == '__main__':\n",
    "    main()"
   ]
  },
  {
   "cell_type": "markdown",
   "metadata": {},
   "source": [
    "### 2. Create a 3x3 matrix with values ranging from 2 to 10.\n",
    "Expected Output: <br>\n",
    "[[ 2 3 4]  <br>\n",
    "[ 5 6 7]    <br>\n",
    "[ 8 9 10]]  <br>"
   ]
  },
  {
   "cell_type": "code",
   "execution_count": 158,
   "metadata": {},
   "outputs": [
    {
     "name": "stdout",
     "output_type": "stream",
     "text": [
      "[[ 2  3  4]\n",
      " [ 5  6  7]\n",
      " [ 8  9 10]]\n"
     ]
    }
   ],
   "source": [
    "\n",
    "def main():\n",
    "    a=np.arange(2,11).reshape((3,3))\n",
    "    print(a)\n",
    "\n",
    "\n",
    "if __name__ == '__main__':\n",
    "    main()\n"
   ]
  },
  {
   "cell_type": "markdown",
   "metadata": {},
   "source": [
    "### 3. Write a Python program to create a null vector of size 10 and update sixth value to 11.\n",
    "[ 0. 0. 0. 0. 0. 0. 0. 0. 0. 0.] <br>\n",
    "Update sixth value to 11 <br>\n",
    "[ 0. 0. 0. 0. 0. 0. 11. 0. 0. 0.] <br>\n"
   ]
  },
  {
   "cell_type": "code",
   "execution_count": 159,
   "metadata": {},
   "outputs": [
    {
     "name": "stdout",
     "output_type": "stream",
     "text": [
      "[ 0.  0.  0.  0.  0. 11.  0.  0.  0.  0.]\n"
     ]
    }
   ],
   "source": [
    "import numpy as np\n",
    "def main():\n",
    "    array =np.zeros(10)\n",
    "    array[5]=11\n",
    "    print(array)\n",
    "\n",
    "if __name__ == '__main__':\n",
    "    main()"
   ]
  },
  {
   "cell_type": "markdown",
   "metadata": {},
   "source": [
    "### 4. Write a Python program to reverse an array (first element becomes last).\n",
    "Original array: <br>\n",
    "[12 13 14 15 16 17 18 19 20 21 22 23 24 25 26 27 28 29 30 31 32 33 34 35 36 37]<br>\n",
    "Reverse array:<br>\n",
    "[37 36 35 34 33 32 31 30 29 28 27 26 25 24 23 22 21 20 19 18 17 16 15 14 13 12]<br>\n"
   ]
  },
  {
   "cell_type": "code",
   "execution_count": 160,
   "metadata": {},
   "outputs": [
    {
     "name": "stdout",
     "output_type": "stream",
     "text": [
      "Before Reversing the array [12 13 14 15 16 17 18 19 20 21 22 23 24 25 26 27 28 29 30 31 32 33 34 35\n",
      " 36 37]\n",
      "after reversing the array [37 36 35 34 33 32 31 30 29 28 27 26 25 24 23 22 21 20 19 18 17 16 15 14\n",
      " 13 12]\n"
     ]
    }
   ],
   "source": [
    "def main():\n",
    "    \n",
    "    array =np.arange(12,38)\n",
    "    \n",
    "    print('Before Reversing the array',array)\n",
    "    rev =np.flip(array)\n",
    "    print('after reversing the array',rev)\n",
    "\n",
    "if __name__ == '__main__':\n",
    "    main()"
   ]
  },
  {
   "cell_type": "markdown",
   "metadata": {},
   "source": [
    "### 5. Write a Python program to create a 2d array with 1 on the border and 0 inside."
   ]
  },
  {
   "cell_type": "code",
   "execution_count": 161,
   "metadata": {},
   "outputs": [
    {
     "ename": "ValueError",
     "evalue": "invalid literal for int() with base 10: ''",
     "output_type": "error",
     "traceback": [
      "\u001b[1;31m---------------------------------------------------------------------------\u001b[0m",
      "\u001b[1;31mValueError\u001b[0m                                Traceback (most recent call last)",
      "Cell \u001b[1;32mIn[161], line 9\u001b[0m\n\u001b[0;32m      6\u001b[0m     \u001b[38;5;28mprint\u001b[39m(\u001b[38;5;124m\"\u001b[39m\u001b[38;5;124mAfter adding the border with ones\u001b[39m\u001b[38;5;130;01m\\n\u001b[39;00m\u001b[38;5;124m\"\u001b[39m,array)\n\u001b[0;32m      8\u001b[0m \u001b[38;5;28;01mif\u001b[39;00m \u001b[38;5;18m__name__\u001b[39m \u001b[38;5;241m==\u001b[39m \u001b[38;5;124m'\u001b[39m\u001b[38;5;124m__main__\u001b[39m\u001b[38;5;124m'\u001b[39m:\n\u001b[1;32m----> 9\u001b[0m     \u001b[43mmain\u001b[49m\u001b[43m(\u001b[49m\u001b[43m)\u001b[49m\n",
      "Cell \u001b[1;32mIn[161], line 2\u001b[0m, in \u001b[0;36mmain\u001b[1;34m()\u001b[0m\n\u001b[0;32m      1\u001b[0m \u001b[38;5;28;01mdef\u001b[39;00m \u001b[38;5;21mmain\u001b[39m():\n\u001b[1;32m----> 2\u001b[0m     size_matrix \u001b[38;5;241m=\u001b[39m\u001b[38;5;28;43mint\u001b[39;49m\u001b[43m(\u001b[49m\u001b[38;5;28;43minput\u001b[39;49m\u001b[43m(\u001b[49m\u001b[38;5;124;43m\"\u001b[39;49m\u001b[38;5;124;43mEnter size of the matrix\u001b[39;49m\u001b[38;5;124;43m\"\u001b[39;49m\u001b[43m)\u001b[49m\u001b[43m)\u001b[49m\n\u001b[0;32m      3\u001b[0m     array \u001b[38;5;241m=\u001b[39m np\u001b[38;5;241m.\u001b[39mones((size_matrix,size_matrix))\n\u001b[0;32m      4\u001b[0m     \u001b[38;5;28mprint\u001b[39m(\u001b[38;5;124m'\u001b[39m\u001b[38;5;124mBefore the adding border with ones\u001b[39m\u001b[38;5;130;01m\\n\u001b[39;00m\u001b[38;5;124m'\u001b[39m,array)\n",
      "\u001b[1;31mValueError\u001b[0m: invalid literal for int() with base 10: ''"
     ]
    }
   ],
   "source": [
    "def main():\n",
    "    size_matrix =int(input(\"Enter size of the matrix\"))\n",
    "    array = np.ones((size_matrix,size_matrix))\n",
    "    print('Before the adding border with ones\\n',array)\n",
    "    array[1:-1,1:-1]=0\n",
    "    print(\"After adding the border with ones\\n\",array)\n",
    "\n",
    "if __name__ == '__main__':\n",
    "    main()"
   ]
  },
  {
   "cell_type": "markdown",
   "metadata": {},
   "source": [
    "### 6. Write a Python program to add a border (filled with 0's) around an existing array."
   ]
  },
  {
   "cell_type": "code",
   "execution_count": null,
   "metadata": {},
   "outputs": [
    {
     "name": "stdout",
     "output_type": "stream",
     "text": [
      "initial array is\n",
      " [[1. 1. 1. 1. 1. 1.]\n",
      " [1. 1. 1. 1. 1. 1.]\n",
      " [1. 1. 1. 1. 1. 1.]\n",
      " [1. 1. 1. 1. 1. 1.]\n",
      " [1. 1. 1. 1. 1. 1.]\n",
      " [1. 1. 1. 1. 1. 1.]]\n",
      "After changing the bordr with zeros [[0. 0. 0. 0. 0. 0. 0. 0.]\n",
      " [0. 1. 1. 1. 1. 1. 1. 0.]\n",
      " [0. 1. 1. 1. 1. 1. 1. 0.]\n",
      " [0. 1. 1. 1. 1. 1. 1. 0.]\n",
      " [0. 1. 1. 1. 1. 1. 1. 0.]\n",
      " [0. 1. 1. 1. 1. 1. 1. 0.]\n",
      " [0. 1. 1. 1. 1. 1. 1. 0.]\n",
      " [0. 0. 0. 0. 0. 0. 0. 0.]]\n"
     ]
    }
   ],
   "source": [
    "def change(arr):\n",
    "    ''''\n",
    "    descripton\n",
    "      take the array fillied with 0's'\n",
    "\n",
    "    Parameters:\n",
    "    - arr(numpy array):numpy array.\n",
    "    \n",
    "    Returns:\n",
    "    - filled with 0 arround(list).-return the new numpy.'''\n",
    "    for row in range(arr.shape[0]):\n",
    "        for col in range(arr.shape[0]):\n",
    "            if row == 0 or row ==arr.shape[0]-1 or col ==0 or col ==arr.shape[0]-1:\n",
    "                arr[row,col]=0\n",
    "    \n",
    "    return arr\n",
    "\n",
    "\n",
    "        \n",
    "    \n",
    "def main():\n",
    "    size_matrix =int(input(\"Enter size of the matrix\"))\n",
    "    array =np.ones(size_matrix*size_matrix)\n",
    "    array=array.reshape(size_matrix,size_matrix)\n",
    "    print('initial array is\\n',array)\n",
    "    arr = np.ones((size_matrix+2)*(size_matrix+2))\n",
    "    arr=arr.reshape(size_matrix+2,size_matrix+2)\n",
    "    print(\"After changing the bordr with zeros\",change(arr))\n",
    "if __name__ == '__main__':\n",
    "    main()"
   ]
  },
  {
   "cell_type": "markdown",
   "metadata": {},
   "source": [
    "### 7. Write a Python program to create a 8x8 matrix and fill it with a checkerboard pattern.\n",
    "Checkerboard pattern:"
   ]
  },
  {
   "cell_type": "code",
   "execution_count": null,
   "metadata": {},
   "outputs": [
    {
     "name": "stdout",
     "output_type": "stream",
     "text": [
      "initial array is\n",
      " [[1. 1. 1. 1. 1. 1.]\n",
      " [1. 1. 1. 1. 1. 1.]\n",
      " [1. 1. 1. 1. 1. 1.]\n",
      " [1. 1. 1. 1. 1. 1.]\n",
      " [1. 1. 1. 1. 1. 1.]\n",
      " [1. 1. 1. 1. 1. 1.]]\n",
      "final array is\n",
      " [[0. 1. 0. 1. 0. 1.]\n",
      " [0. 1. 0. 1. 0. 1.]\n",
      " [0. 1. 0. 1. 0. 1.]\n",
      " [0. 1. 0. 1. 0. 1.]\n",
      " [0. 1. 0. 1. 0. 1.]\n",
      " [0. 1. 0. 1. 0. 1.]]\n"
     ]
    }
   ],
   "source": [
    "def main():\n",
    "    try:\n",
    "        size_matrix =int(input(\"Enter size of the matrix\"))\n",
    "        array =np.ones(size_matrix*size_matrix)\n",
    "        array=array.reshape(size_matrix,size_matrix)\n",
    "        print('initial array is\\n',array)\n",
    "        for row in range(array.shape[0]):\n",
    "            for col in range(array.shape[1]):\n",
    "                if (row % 2==0 and col % 2==0):\n",
    "                    array[row,col]=0\n",
    "                if(row % 2 !=0 and col %2 ==0):\n",
    "                    array[row,col] =0\n",
    "        print(\"final array is\\n\",array)\n",
    "    except Exception as e:\n",
    "        print(\"invalid input enter only numeric value\",e)\n",
    "\n",
    "\n",
    "if __name__ == '__main__':\n",
    "    main()\n",
    "\n",
    "\n"
   ]
  },
  {
   "cell_type": "markdown",
   "metadata": {},
   "source": [
    "### 8.Python program to convert a list and tuple into arrays.List to array\n",
    "List to array: <br>\n",
    "[1 2 3 4 5 6 7 8] <br>\n",
    "Tuple to array: <br>\n",
    "[[8 4 6]<br>\n",
    "[1 2 3]]\n"
   ]
  },
  {
   "cell_type": "code",
   "execution_count": null,
   "metadata": {},
   "outputs": [
    {
     "name": "stdout",
     "output_type": "stream",
     "text": [
      "list is converted in numpy[6],tuple is convered numpy[6]\n"
     ]
    }
   ],
   "source": [
    "def main():\n",
    "    lis =list(map(int,input()))\n",
    "    tup =tuple(map(int,input()))\n",
    "    array1=np.array(lis)\n",
    "    array2 =np.array(tup)\n",
    "    print(f\"list is converted in numpy{array1},tuple is convered numpy{array2}\")\n",
    "\n",
    "if __name__ == \"__main__\":\n",
    "    main()"
   ]
  },
  {
   "cell_type": "markdown",
   "metadata": {},
   "source": [
    "### 9.Write a Python program to append values to the end of an array."
   ]
  },
  {
   "cell_type": "code",
   "execution_count": null,
   "metadata": {},
   "outputs": [
    {
     "name": "stdout",
     "output_type": "stream",
     "text": [
      "[2 4 5 6 5 7]\n"
     ]
    }
   ],
   "source": [
    "def main():\n",
    "    \n",
    "    array =np.array([2,4,5,6,5])\n",
    "    \n",
    "    array=np.append(array,7)\n",
    "    \n",
    "    print(array)\n",
    "\n",
    "if __name__ == \"__main__\":\n",
    "    main()"
   ]
  },
  {
   "cell_type": "markdown",
   "metadata": {},
   "source": [
    "### 10. Write a Python program to find the real and imaginary parts of an array of complex\n",
    "numbers."
   ]
  },
  {
   "cell_type": "code",
   "execution_count": null,
   "metadata": {},
   "outputs": [
    {
     "name": "stdout",
     "output_type": "stream",
     "text": [
      "imaginary part of (1+9j) is 9.0\n",
      "real part part of (1+9j) is 1.0\n",
      "imaginary part of (2+2j) is 2.0\n",
      "real part part of (2+2j) is 2.0\n",
      "imaginary part of (5+6j) is 6.0\n",
      "real part part of (5+6j) is 5.0\n",
      "imaginary part of (4+0j) is 0.0\n",
      "real part part of (4+0j) is 4.0\n"
     ]
    }
   ],
   "source": [
    "def main():\n",
    "    array =np.array([1+9j,2+2j,5+6j,4+0j])\n",
    "\n",
    "    for i in range(len(array)):\n",
    "        print(f\"imaginary part of {array[i]} is\",array[i].imag)\n",
    "    \n",
    "        print(f'real part part of {array[i]} is',array[i].real)\n",
    "\n",
    "\n",
    "\n",
    "if __name__ == '__main__':\n",
    "    main()"
   ]
  },
  {
   "cell_type": "markdown",
   "metadata": {},
   "source": [
    "### 11. Write a Python program to find the number of elements of an array, length of one\n",
    "array element in bytes and total bytes consumed by the elements."
   ]
  },
  {
   "cell_type": "code",
   "execution_count": null,
   "metadata": {},
   "outputs": [
    {
     "name": "stdout",
     "output_type": "stream",
     "text": [
      "number of elements in array 10\n",
      "length of one element in array 2\n",
      "total bytes consumed by array 20\n"
     ]
    }
   ],
   "source": [
    "def main():\n",
    "    array =np.array([1,5,6,4,3,3,67,5,4,4],dtype=np.int16)\n",
    "    print('number of elements in array',len(array))\n",
    "    print('length of one element in array',array[0].itemsize)\n",
    "    print(\"total bytes consumed by array\",len(array)*array.itemsize)\n",
    "\n",
    "\n",
    "if __name__ == '__main__':\n",
    "    main()\n",
    "\n",
    "\n",
    "\n",
    "\n",
    "\n"
   ]
  },
  {
   "cell_type": "markdown",
   "metadata": {},
   "source": [
    "### 12.Write a Python program to find common values between two arrays."
   ]
  },
  {
   "cell_type": "code",
   "execution_count": null,
   "metadata": {},
   "outputs": [
    {
     "name": "stdout",
     "output_type": "stream",
     "text": [
      "The comman Values of the Two numpy arrays\n",
      " [3. 3. 4. 6. 6.]\n"
     ]
    }
   ],
   "source": [
    "def main():\n",
    "    \n",
    "    comman =np.array([])\n",
    "    array =np.array([13,56,3,2,1,3,4,2,1,6])\n",
    "    array2 =np.array([3,4,5,6,7,8,6,54])\n",
    "    for i in array:\n",
    "        for j in array2:\n",
    "            if i == j:\n",
    "                comman =np.append(comman,i)\n",
    "\n",
    "    print(\"The comman Values of the Two numpy arrays\\n\",comman) \n",
    "\n",
    "\n",
    "if __name__ == \"__main__\":\n",
    "    main()"
   ]
  },
  {
   "cell_type": "markdown",
   "metadata": {},
   "source": [
    "### 3. Write a Python program to find the set difference of two arrays. The set difference\n",
    "will return the sorted, unique values in array1 that are not in array2."
   ]
  },
  {
   "cell_type": "code",
   "execution_count": null,
   "metadata": {},
   "outputs": [
    {
     "name": "stdout",
     "output_type": "stream",
     "text": [
      "The difference between two numpy arrays [13. 56. 36.  1.  2.  1. 96.]\n"
     ]
    }
   ],
   "source": [
    "def main():\n",
    "    array =np.array([13,56,36,1,3,4,2,1,96])\n",
    "    array2 =np.array([3,4,5,6,7,8,6,54])\n",
    "    dif =np.array([])\n",
    "\n",
    "    for i in array:\n",
    "       if(i not in array2):\n",
    "           dif =np.append(dif,i)\n",
    "\n",
    "    print(\"The difference between two numpy arrays\",dif)\n",
    "\n",
    "\n",
    "if __name__ =='__main__':\n",
    "    main()\n"
   ]
  },
  {
   "cell_type": "markdown",
   "metadata": {},
   "source": [
    "### 14.Python program to find the set exclusive-or of two arrays. "
   ]
  },
  {
   "cell_type": "code",
   "execution_count": null,
   "metadata": {},
   "outputs": [
    {
     "name": "stdout",
     "output_type": "stream",
     "text": [
      "The Symmetric  difference of array1,array2: [ 1  2  5  7  8 13 54 56]\n"
     ]
    }
   ],
   "source": [
    "def main():\n",
    "    array =np.array([13,56,3,2,1,3,4,2,1,6])\n",
    "    array2 =np.array([3,4,5,6,7,8,6,54])\n",
    "    \n",
    "\n",
    "    print(\"The Symmetric  difference of array1,array2:\",np.setxor1d(array,array2))\n",
    "\n",
    "\n",
    "if __name__ =='__main__':\n",
    "    main()"
   ]
  },
  {
   "cell_type": "markdown",
   "metadata": {},
   "source": [
    "### 15.Python program compare two arrays using numpy."
   ]
  },
  {
   "cell_type": "code",
   "execution_count": null,
   "metadata": {},
   "outputs": [
    {
     "name": "stdout",
     "output_type": "stream",
     "text": [
      "[ True False False False False False]\n",
      "[False  True  True  True  True  True]\n",
      "[False False False False False  True]\n",
      "[False  True  True  True  True False]\n",
      "[ True False False False False  True]\n",
      "[ True  True  True  True  True False]\n"
     ]
    }
   ],
   "source": [
    "def main():\n",
    "    f_array = np.array([1,3,4,5,6,4])\n",
    "    s_array = np.array([1,2,3,4,5,6])\n",
    "\n",
    "    print(f_array == s_array)\n",
    "    print(f_array != s_array)\n",
    "    print(f_array < s_array)\n",
    "    print(f_array > s_array)\n",
    "    print(f_array <= s_array)\n",
    "    print(f_array >= s_array)\n",
    "\n",
    "if __name__ == '__main__':\n",
    "    main()"
   ]
  },
  {
   "cell_type": "markdown",
   "metadata": {},
   "source": [
    "### 16.Write a Python program to save a NumPy array to a text file."
   ]
  },
  {
   "cell_type": "code",
   "execution_count": null,
   "metadata": {},
   "outputs": [
    {
     "name": "stdout",
     "output_type": "stream",
     "text": [
      "Array:\n",
      " [[1 2 3]\n",
      " [4 5 6]\n",
      " [7 8 9]]\n",
      "\n",
      "Content in file1.txt:\n",
      " [[1. 2. 3.]\n",
      " [4. 5. 6.]\n",
      " [7. 8. 9.]]\n"
     ]
    }
   ],
   "source": [
    "def main():\n",
    "    \n",
    "    List = [[1, 2, 3], [4, 5, 6], [7, 8, 9]]\n",
    "    Array = np.array(List)\n",
    "    \n",
    "    print('Array:\\n', Array)\n",
    "\n",
    "    np.savetxt(\"file1.txt\", Array)\n",
    "    \n",
    "    content = np.loadtxt('file1.txt')\n",
    "    print(\"\\nContent in file1.txt:\\n\", content)\n",
    "\n",
    "\n",
    "if __name__ == \"__main__\":\n",
    "    main()"
   ]
  },
  {
   "cell_type": "markdown",
   "metadata": {},
   "source": [
    "### 17. Write a Python program to create a contiguous flattened array."
   ]
  },
  {
   "cell_type": "code",
   "execution_count": null,
   "metadata": {},
   "outputs": [
    {
     "name": "stdout",
     "output_type": "stream",
     "text": [
      "Initial array:\n",
      "[[ 5 12 16]\n",
      " [13 10 14]\n",
      " [16  9 14]]\n",
      "Flattened array:\n",
      "[ 5 12 16 13 10 14 16  9 14]\n"
     ]
    }
   ],
   "source": [
    "def main():\n",
    "    array = np.random.randint(4, 19, size=(3, 3))\n",
    "    print('Initial array:')\n",
    "    print(array)\n",
    "    \n",
    "    flattened_array = array.flatten()\n",
    "    print('Flattened array:')\n",
    "    print(flattened_array)\n",
    "\n",
    "\n",
    "if __name__ == '__main__':\n",
    "    main()\n"
   ]
  },
  {
   "cell_type": "markdown",
   "metadata": {},
   "source": [
    "### 18.Write a Python program to change the data type of an array"
   ]
  },
  {
   "cell_type": "code",
   "execution_count": null,
   "metadata": {},
   "outputs": [
    {
     "name": "stdout",
     "output_type": "stream",
     "text": [
      "[ 1  3  4  5  6 33  4]\n",
      "int64\n",
      "[ 1.  3.  4.  5.  6. 33.  4.]\n",
      "float64\n"
     ]
    }
   ],
   "source": [
    "def main():\n",
    "    array =np.array([1,3,4,5,6,33,4])\n",
    "    print(array)\n",
    "    print(array.dtype)\n",
    "\n",
    "    new =array.astype(np.float64)\n",
    "    print(new)\n",
    "    print(new.dtype)\n",
    "    \n",
    "\n",
    "if __name__ == '__main__':\n",
    "    main()"
   ]
  },
  {
   "cell_type": "markdown",
   "metadata": {},
   "source": [
    "### 19.Write a Python program to create a 3-D array with ones on a diagonal and zeros\n"
   ]
  },
  {
   "cell_type": "code",
   "execution_count": null,
   "metadata": {},
   "outputs": [
    {
     "name": "stdout",
     "output_type": "stream",
     "text": [
      "initial list is [[0. 0. 0.]\n",
      " [0. 0. 0.]\n",
      " [0. 0. 0.]]\n",
      "final list is [[1. 0. 0.]\n",
      " [0. 1. 0.]\n",
      " [0. 0. 1.]]\n"
     ]
    }
   ],
   "source": [
    "def main():\n",
    "     \n",
    "    array =np.zeros((3,3))\n",
    "    print('initial list is',array)\n",
    "\n",
    "    for row in range(len(array[0])):\n",
    "        for col in range(len(array[1])):\n",
    "            if row == col:\n",
    "                array[row, col] =1\n",
    "            \n",
    "    print('final list is',array)\n",
    "\n",
    "\n",
    "if __name__ == '__main__':\n",
    "    main()\n",
    "\n"
   ]
  },
  {
   "cell_type": "markdown",
   "metadata": {},
   "source": [
    "### 20. Write a Python program to create an array which looks like below array."
   ]
  },
  {
   "cell_type": "code",
   "execution_count": null,
   "metadata": {},
   "outputs": [
    {
     "name": "stdout",
     "output_type": "stream",
     "text": [
      "[[1. 0. 0. 0. 0. 0. 0. 0.]\n",
      " [1. 1. 0. 0. 0. 0. 0. 0.]\n",
      " [1. 1. 1. 0. 0. 0. 0. 0.]\n",
      " [1. 1. 1. 1. 0. 0. 0. 0.]\n",
      " [1. 1. 1. 1. 1. 0. 0. 0.]\n",
      " [1. 1. 1. 1. 1. 1. 0. 0.]\n",
      " [1. 1. 1. 1. 1. 1. 1. 0.]\n",
      " [1. 1. 1. 1. 1. 1. 1. 1.]]\n"
     ]
    }
   ],
   "source": [
    "def main():\n",
    "    size_array =int(input(\"Enter a size\" ))\n",
    "    array =np.zeros((size_array,size_array))\n",
    "    for i in range(size_array):\n",
    "        array[i,:i+1]=1\n",
    "\n",
    "    print(array)             \n",
    "\n",
    "\n",
    "\n",
    "\n",
    "if __name__ == '__main__':\n",
    "    main()\n"
   ]
  },
  {
   "cell_type": "markdown",
   "metadata": {},
   "source": [
    "### 21. Write a Python program to concatenate two 2-dimensional arrays"
   ]
  },
  {
   "cell_type": "code",
   "execution_count": null,
   "metadata": {},
   "outputs": [
    {
     "name": "stdout",
     "output_type": "stream",
     "text": [
      "[[ 0  1  3  0  2  4]\n",
      " [ 5  7  9  6  8 10]]\n"
     ]
    }
   ],
   "source": [
    "def main():\n",
    "    array = np.array([[0, 1, 3], [5, 7, 9]])\n",
    "    array1 =np.array([[0, 2, 4], [6, 8, 10]])\n",
    "\n",
    "    new =np.concatenate((array,array1) ,axis=1)\n",
    "    print(new)\n",
    "\n",
    "\n",
    "if __name__ == '__main__':\n",
    "    main()\n"
   ]
  },
  {
   "cell_type": "markdown",
   "metadata": {},
   "source": [
    "### 22. Write a Python program to make an array immutable (read-only)"
   ]
  },
  {
   "cell_type": "code",
   "execution_count": null,
   "metadata": {},
   "outputs": [
    {
     "name": "stdout",
     "output_type": "stream",
     "text": [
      "assignment destination is read-only\n"
     ]
    }
   ],
   "source": [
    "def main():\n",
    "    arr = np.array([1, 2, 3, 4, 5])\n",
    "    arr.flags.writeable = False\n",
    "\n",
    "    \n",
    "    try:\n",
    "        arr[0] = 10\n",
    "    except ValueError as e:\n",
    "        print(e)\n",
    "\n",
    "    \n",
    "if __name__ =='__main__':\n",
    "    main()"
   ]
  },
  {
   "cell_type": "code",
   "execution_count": null,
   "metadata": {},
   "outputs": [],
   "source": [
    "import numpy as np"
   ]
  },
  {
   "cell_type": "markdown",
   "metadata": {},
   "source": [
    "### 23.Write a Python program to create an array of (3, 4) shape, multiply every element\n",
    "value by 3 and display the new array.\n"
   ]
  },
  {
   "cell_type": "code",
   "execution_count": null,
   "metadata": {},
   "outputs": [
    {
     "name": "stdout",
     "output_type": "stream",
     "text": [
      "intial array\n",
      " [[ 0  1  2  3]\n",
      " [ 4  5  6  7]\n",
      " [ 8  9 10 11]]\n",
      "final array\n",
      " [[ 0  3  6  9]\n",
      " [12 15 18 21]\n",
      " [24 27 30 33]]\n"
     ]
    }
   ],
   "source": [
    "def main():\n",
    "    array = np.arange(0,12)\n",
    "    array=array.reshape(3,4)\n",
    "    print('intial array\\n',array)\n",
    "\n",
    "    print('final array\\n',array*3)\n",
    "\n",
    "\n",
    "if __name__ == '__main__':\n",
    "    main()"
   ]
  },
  {
   "cell_type": "markdown",
   "metadata": {},
   "source": [
    "### 24.Write a Python program to convert a NumPy array into Python list structure"
   ]
  },
  {
   "cell_type": "code",
   "execution_count": null,
   "metadata": {},
   "outputs": [
    {
     "name": "stdout",
     "output_type": "stream",
     "text": [
      "the numpy array is [2 2 2]\n",
      "The python list structure is [2, 2, 2]\n"
     ]
    }
   ],
   "source": [
    "def main():\n",
    "    \n",
    "    array = np.array([] ,dtype=int)\n",
    "    size=int(input())\n",
    "\n",
    "    for _ in range(size):\n",
    "        n=int(input('Enter a number'))\n",
    "        array =np.append(array,n)\n",
    "    print('the numpy array is',array)\n",
    "    lis=array.tolist()\n",
    "    print('The python list structure is',lis)\n",
    "\n",
    "\n",
    "if __name__ == '__main__':\n",
    "    main()\n",
    "    "
   ]
  },
  {
   "cell_type": "markdown",
   "metadata": {},
   "source": [
    "### 25.Write a Python program to convert a NumPy array into Python list structure"
   ]
  },
  {
   "cell_type": "code",
   "execution_count": null,
   "metadata": {},
   "outputs": [
    {
     "name": "stdout",
     "output_type": "stream",
     "text": [
      "The original array [0.14 0.82 0.74 0.08 0.32 0.51]\n",
      "The list of the array is [0.136152186608278, 0.8248360327091042, 0.7441343061727514, 0.08140603314288997, 0.3160311632588957, 0.5142695402697317]\n",
      "The final after precicion [0.136, 0.825, 0.744, 0.081, 0.316, 0.514]\n"
     ]
    }
   ],
   "source": [
    "def main():\n",
    "    array = np.random.random(6)\n",
    "    print('The original array',array)\n",
    "    new =array.tolist()\n",
    "\n",
    "    print('The list of the array is',new)\n",
    "\n",
    "    print('The final after precicion',[round(ele,3) for ele in new])\n",
    "\n",
    "\n",
    "\n",
    "\n",
    "if __name__ == '__main__':\n",
    "    main()\n"
   ]
  },
  {
   "cell_type": "markdown",
   "metadata": {},
   "source": [
    "### 26.Write a Python program to suppresses the use of scientific notation for small\n",
    "numbers in numpy array.\n"
   ]
  },
  {
   "cell_type": "code",
   "execution_count": null,
   "metadata": {},
   "outputs": [
    {
     "name": "stdout",
     "output_type": "stream",
     "text": [
      "[   0.      1.6  1200.      0.23]\n"
     ]
    }
   ],
   "source": [
    "def main():\n",
    "    \n",
    "    np.set_printoptions(suppress=True,precision=2) \n",
    "\n",
    "    array = np.array([ 1.0000000e-10, 1.60000000e+00 ,1.20000000e+03 ,2.35000000e-01])\n",
    "\n",
    "    # array=array.round(100)\n",
    "\n",
    "    print(array)\n",
    "\n",
    "\n",
    "if __name__ == '__main__':\n",
    "    main()\n",
    "    \n"
   ]
  },
  {
   "cell_type": "markdown",
   "metadata": {},
   "source": [
    "### 27.Write a Python program to how to add an extra column to an numpy array.\n"
   ]
  },
  {
   "cell_type": "code",
   "execution_count": null,
   "metadata": {},
   "outputs": [
    {
     "name": "stdout",
     "output_type": "stream",
     "text": [
      "First array\n",
      " [[10 20 30]\n",
      " [40 50 60]]\n",
      "Second array is \n",
      " [[100]\n",
      " [200]]\n",
      "The modified array is\n",
      " [[ 10  20  30 100]\n",
      " [ 40  50  60 200]]\n"
     ]
    }
   ],
   "source": [
    "def main():\n",
    "    x = np.array([[10, 20, 30], [40, 50, 60]])\n",
    "    print('First array\\n',x)\n",
    "    y = np.array([[100], [200]])\n",
    "    print('Second array is \\n',y)\n",
    "    new =np.append(x, y,axis=1)\n",
    "    \n",
    "    print('The modified array is\\n',new)\n",
    "\n",
    "if __name__ == '__main__':\n",
    "    main()"
   ]
  },
  {
   "cell_type": "markdown",
   "metadata": {},
   "source": [
    "### 28.Write a Python program to remove specific elements in a numpy array.\n"
   ]
  },
  {
   "cell_type": "code",
   "execution_count": null,
   "metadata": {},
   "outputs": [
    {
     "name": "stdout",
     "output_type": "stream",
     "text": [
      "remaining elements after deleting 1st fourth and fifith  elements [2 9 4 5]\n"
     ]
    }
   ],
   "source": [
    "def main():\n",
    "    array =np.array([1,2,9,20,3,4,5])\n",
    "    \n",
    "    print(\"remaining elements after deleting 1st fourth and fifith  elements\",np.delete(array, [0, 3,4]))\n",
    "    \n",
    "\n",
    "if __name__ == '__main__':\n",
    "    main()"
   ]
  },
  {
   "cell_type": "markdown",
   "metadata": {},
   "source": []
  }
 ],
 "metadata": {
  "kernelspec": {
   "display_name": "Python 3",
   "language": "python",
   "name": "python3"
  },
  "language_info": {
   "codemirror_mode": {
    "name": "ipython",
    "version": 3
   },
   "file_extension": ".py",
   "mimetype": "text/x-python",
   "name": "python",
   "nbconvert_exporter": "python",
   "pygments_lexer": "ipython3",
   "version": "3.12.4"
  }
 },
 "nbformat": 4,
 "nbformat_minor": 2
}
