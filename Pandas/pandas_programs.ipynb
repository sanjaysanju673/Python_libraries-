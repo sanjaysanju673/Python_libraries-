{
 "cells": [
  {
   "cell_type": "code",
   "execution_count": 2,
   "metadata": {},
   "outputs": [],
   "source": [
    "import pandas as pd \n",
    "import numpy as np\n",
    "import logging\n",
    "\n",
    "\n"
   ]
  },
  {
   "cell_type": "markdown",
   "metadata": {},
   "source": [
    "1.Write a Python program to create and display a one-dimensional array-like object\n",
    "containing an array of data using Pandas module.\n"
   ]
  },
  {
   "cell_type": "code",
   "execution_count": 3,
   "metadata": {},
   "outputs": [
    {
     "name": "stdout",
     "output_type": "stream",
     "text": [
      "     name  marks\n",
      "0  sanjay     23\n",
      "1     ram     67\n",
      "2  rajesh     54\n",
      "3  rayudu     34\n",
      "4    raju     97\n"
     ]
    }
   ],
   "source": [
    "'''\n",
    "    @Author: v sanjay kumar\n",
    "    @Date: 2024-08-08 010:20:30\n",
    "    @Last Modified by: v sanjay kumar\n",
    "    @Last Modified time: 2024-08-08 11:20:30.\n",
    "    @Title :program to  create and display a one-dimensional array-like object containing an array of \n",
    "            data using Pandas module.\n",
    "'''\n",
    "\n",
    "\n",
    "\n",
    "def main():\n",
    "    sample_data ={'name':['sanjay','ram','rajesh','rayudu','raju'],'marks':[23,67,54,34,97],}\n",
    "\n",
    "\n",
    "    new =pd.DataFrame(sample_data)\n",
    "   \n",
    "    print(new)\n",
    "\n",
    "\n",
    "\n",
    "if __name__ == '__main__':\n",
    "    main()"
   ]
  },
  {
   "cell_type": "markdown",
   "metadata": {},
   "source": [
    "2. Write a Python program to convert a Panda module Series to Python list and it's type"
   ]
  },
  {
   "cell_type": "code",
   "execution_count": 4,
   "metadata": {},
   "outputs": [
    {
     "name": "stdout",
     "output_type": "stream",
     "text": [
      "initial list is: 0     1\n",
      "1     2\n",
      "2     3\n",
      "3     4\n",
      "4    47\n",
      "5     8\n",
      "6     0\n",
      "dtype: int64\n",
      "<class 'pandas.core.series.Series'>\n",
      "After converting list is [1, 2, 3, 4, 47, 8, 0]\n",
      "<class 'list'>\n"
     ]
    }
   ],
   "source": [
    "'''\n",
    "    @Author: v sanjay kumar\n",
    "    @Date: 2024-08-08 010:20:30\n",
    "    @Last Modified by: v sanjay kumar\n",
    "    @Last Modified time: 2024-08-08 12:20:30.\n",
    "    @Title :program to convert a Panda module Series to Python list and it's type\n",
    "\n",
    "'''\n",
    "\n",
    "\n",
    "\n",
    "def main():\n",
    "    series = pd.Series([1, 2, 3, 4,47,8,0])\n",
    "\n",
    "    print('initial list is:',series)\n",
    "    print(type(series))\n",
    "\n",
    "    new=series.tolist()\n",
    "    print('After converting list is',new)\n",
    "\n",
    "    print(type(new))\n",
    "\n",
    "\n",
    "if __name__ == '__main__':\n",
    "    main()\n"
   ]
  },
  {
   "cell_type": "markdown",
   "metadata": {},
   "source": [
    "3.Write a Python program to add, subtract, multiple and divide two Pandas Series."
   ]
  },
  {
   "cell_type": "code",
   "execution_count": 5,
   "metadata": {},
   "outputs": [
    {
     "name": "stdout",
     "output_type": "stream",
     "text": [
      "Addition of the two pandas\n",
      " 0      6\n",
      "1      9\n",
      "2      6\n",
      "3     58\n",
      "4     80\n",
      "5    106\n",
      "6     23\n",
      "dtype: int64\n",
      "Subtraction of the two pandas\n",
      " 0    -4\n",
      "1    -5\n",
      "2     0\n",
      "3   -50\n",
      "4    14\n",
      "5   -90\n",
      "6   -23\n",
      "dtype: int64\n",
      "muliplication of the two Pandas Series\n",
      " 0       5\n",
      "1      14\n",
      "2       9\n",
      "3     216\n",
      "4    1551\n",
      "5     784\n",
      "6       0\n",
      "dtype: int64\n",
      "dision of the two Pandas Series\n",
      " 0    0\n",
      "1    0\n",
      "2    1\n",
      "3    0\n",
      "4    1\n",
      "5    0\n",
      "6    0\n",
      "dtype: int64\n"
     ]
    }
   ],
   "source": [
    "\n",
    "'''\n",
    "    @Author: v sanjay kumar\n",
    "    @Date: 2024-08-08 010:20:30\n",
    "    @Last Modified by: v sanjay kumar\n",
    "    @Last Modified time: 2024-08-08 11:20:30.\n",
    "    @Title :program to add, subtract, multiple and divide two Pandas Series.ype\n",
    "    \n",
    "'''\n",
    "\n",
    "def main():\n",
    "    series = pd.Series([1, 2, 3, 4,47,8,0])\n",
    "\n",
    "    series1= pd.Series([5,7,3,54,33,98,23])\n",
    "\n",
    "    print(\"Addition of the two pandas\\n\",series+series1)\n",
    "\n",
    "    print(\"Subtraction of the two pandas\\n\",series-series1)\n",
    "    print('muliplication of the two Pandas Series\\n',series*series1)\n",
    "\n",
    "    print('dision of the two Pandas Series\\n',series//series1)\n",
    "\n",
    "\n",
    "\n",
    "if __name__ == '__main__':\n",
    "    main()\n"
   ]
  },
  {
   "cell_type": "markdown",
   "metadata": {},
   "source": [
    "4. Write a Python program to get the powers of an array values element-wise"
   ]
  },
  {
   "cell_type": "code",
   "execution_count": 6,
   "metadata": {},
   "outputs": [
    {
     "name": "stdout",
     "output_type": "stream",
     "text": [
      "Initial array is  <IntegerArray>\n",
      "[3, 5, 6, 7, 8, 6, 5, 4, 33, 2]\n",
      "Length: 10, dtype: Int64\n",
      "Squre panda series\n",
      " <IntegerArray>\n",
      "[1, 25, 216, 2401, 32768, 46656, 78125, 65536, 46411484401953, 1024]\n",
      "Length: 10, dtype: Int64\n"
     ]
    }
   ],
   "source": [
    "'''\n",
    "    @Author: v sanjay kumar\n",
    "    @Date: 2024-08-08 010:20:30\n",
    "    @Last Modified by: v sanjay kumar\n",
    "    @Last Modified time: 2024-08-08 11:20:30.\n",
    "    @Title :program to add, subtract, multiple and divide two Pandas Series.\n",
    "\n",
    "'''\n",
    "\n",
    "\n",
    "def main():\n",
    "    original=[3,5,6,7,8,6,5,4,33,2]\n",
    "    index=[0,2,3,4,5,6,7,8,9,10]\n",
    "\n",
    "    new =pd.array(original)\n",
    "    ind=pd.array(index)\n",
    "\n",
    "    print('Initial array is ',new)\n",
    "\n",
    "    print('Squre panda series\\n',new**ind)\n",
    "\n",
    "    # print('Squre of the pandas\\n',new**ind)\n",
    "\n",
    "    \n",
    "\n",
    "if __name__ == '__main__':\n",
    "    main()"
   ]
  },
  {
   "cell_type": "markdown",
   "metadata": {},
   "source": [
    "5.Write a Python program to create and display a DataFrame from a specified dictionary\n",
    "data which has the index labels.\n"
   ]
  },
  {
   "cell_type": "code",
   "execution_count": 9,
   "metadata": {},
   "outputs": [
    {
     "name": "stdout",
     "output_type": "stream",
     "text": [
      "        name  score  attempts qualify\n",
      "a  Anastasia   12.5         1     yes\n",
      "b       Dima    9.0         3      no\n",
      "c  Katherine   16.5         2     yes\n",
      "d      James    9.0         3      no\n",
      "e      Emily   20.0         2      no\n",
      "f    Michael   14.5         3     yes\n",
      "g    Matthew    8.0         1     yes\n",
      "h      Laura   19.0         1      no\n",
      "i      Kevin    9.0         2      no\n",
      "j      Jonas   88.0         1     yes\n"
     ]
    }
   ],
   "source": [
    "'''\n",
    "    @Author: v sanjay kumar\n",
    "    @Date: 2024-08-08 010:20:30\n",
    "    @Last Modified by: v sanjay kumar\n",
    "    @Last Modified time: 2024-08-08 03:20:30.\n",
    "    @Title :program to create and display a DataFrame from a specified dictionary\n",
    "data which has the index labels.\n",
    "\n",
    "    \n",
    "'''\n",
    "import pandas as pd \n",
    "import numpy as np\n",
    "import logging\n",
    "\n",
    "def main():\n",
    "    sample_data= {'name': ['Anastasia', 'Dima', 'Katherine', 'James', 'Emily', 'Michael','Matthew', 'Laura', 'Kevin', 'Jonas'],\n",
    "'score': [12.5, 9, 16.5, 9, 20, 14.5, 8, 19,9,88],\n",
    "'attempts': [1, 3, 2, 3, 2, 3, 1, 1, 2, 1],\n",
    "'qualify': ['yes', 'no', 'yes', 'no', 'no', 'yes', 'yes', 'no', 'no', 'yes']}\n",
    "    labels = ['a', 'b', 'c', 'd', 'e', 'f', 'g', 'h', 'i', 'j']\n",
    "    new_data=pd.DataFrame(sample_data,index=labels)\n",
    "    logging.basicConfig(filename='log1.txt',level=logging.DEBUG)\n",
    "\n",
    "    logging.debug(\"the basic dataframe\",new_data)\n",
    "\n",
    "    print(new_data)\n",
    "\n",
    "\n",
    "if __name__ == '__main__':\n",
    "    main()"
   ]
  },
  {
   "cell_type": "markdown",
   "metadata": {},
   "source": [
    "6.Write a Python program to display a summary of the basic information about a\n",
    "specified Data Frame and its data.\n"
   ]
  },
  {
   "cell_type": "code",
   "execution_count": 11,
   "metadata": {},
   "outputs": [
    {
     "name": "stdout",
     "output_type": "stream",
     "text": [
      "Summary of the basic information about this DataFrame and its data:\n",
      "<class 'pandas.core.frame.DataFrame'>\n",
      "Index: 10 entries, a to j\n",
      "Data columns (total 4 columns):\n",
      " #   Column    Non-Null Count  Dtype  \n",
      "---  ------    --------------  -----  \n",
      " 0   name      10 non-null     object \n",
      " 1   score     10 non-null     float64\n",
      " 2   attempts  10 non-null     int64  \n",
      " 3   qualify   10 non-null     object \n",
      "dtypes: float64(1), int64(1), object(2)\n",
      "memory usage: 400.0+ bytes\n"
     ]
    }
   ],
   "source": [
    "'''\n",
    "    @Author: v sanjay kumar\n",
    "    @Date: 2024-08-08 010:20:30\n",
    "    @Last Modified by: v sanjay kumar\n",
    "    @Last Modified time: 2024-08-08 03:20:30.\n",
    "    @Title :program to  display a summary of the basic information about a\n",
    "            specified Data Frame and its data.\n",
    "\n",
    "    \n",
    "'''\n",
    "\n",
    "\n",
    "def main():\n",
    "    data = {'name': ['Anastasia', 'Dima', 'Katherine', 'James', 'Emily', 'Michael', 'Matthew',\n",
    "    'Laura', 'Kevin', 'Jonas'],\n",
    "    'score': [12.5, 9, 16.5, 3, 9, 20, 14.5, 5, 8, 19],\n",
    "    'attempts': [1, 3, 2, 3, 2, 3, 1, 1, 2, 1],\n",
    "    'qualify': ['yes', 'no', 'yes', 'no', 'no', 'yes', 'yes', 'no', 'no', 'yes']}\n",
    "    labels = ['a', 'b', 'c', 'd', 'e', 'f', 'g', 'h', 'i', 'j']\n",
    "\n",
    "\n",
    "\n",
    "    labels = ['a', 'b', 'c', 'd', 'e', 'f', 'g', 'h', 'i', 'j']\n",
    "    logging.basicConfig(filename='log.txt',level=logging.DEBUG)\n",
    "  \n",
    "    df = pd.DataFrame(data, index=labels)\n",
    "\n",
    "\n",
    "    logging.debug(\"Summary of the basic information about this DataFrame and its data:\")\n",
    "    print(\"Summary of the basic information about this DataFrame and its data:\")\n",
    "    df.info()\n",
    "\n",
    "\n",
    "if __name__ == '__main__':\n",
    "    main()\n"
   ]
  },
  {
   "cell_type": "markdown",
   "metadata": {},
   "source": [
    "7. Write a Python program to get the first 3 rows of a given DataFrame."
   ]
  },
  {
   "cell_type": "code",
   "execution_count": 29,
   "metadata": {},
   "outputs": [
    {
     "name": "stdout",
     "output_type": "stream",
     "text": [
      "original panda data frame\n",
      "         name  score  attempts qualify\n",
      "a  Anastasia   12.5         1     yes\n",
      "b       Dima    9.0         3      no\n",
      "c  Katherine   16.5         2     yes\n",
      "d      James    NaN         3      no\n",
      "e      Emily    9.0         2      no\n",
      "f    Michael   20.0         3     yes\n",
      "g    Matthew   14.5         1     yes\n",
      "h      Laura    NaN         1      no\n",
      "i      Kevin    8.0         2      no\n",
      "j      Jonas   19.0         1     yes\n",
      "        name  score\n",
      "a  Anastasia   12.5\n",
      "b       Dima    9.0\n",
      "c  Katherine   16.5\n",
      "d      James    NaN\n",
      "e      Emily    9.0\n",
      "f    Michael   20.0\n",
      "g    Matthew   14.5\n",
      "h      Laura    NaN\n",
      "i      Kevin    8.0\n",
      "j      Jonas   19.0\n"
     ]
    }
   ],
   "source": [
    "'''\n",
    "    @Author: v sanjay kumar\n",
    "    @Date: 2024-08-09 10:00:30\n",
    "    @Last Modified by: v sanjay kumar\n",
    "    @Last Modified time: 2024-08-09 10:00:30.\n",
    "    @Title :program to get the first 3 rows of a given DataFrame.\n",
    "    \n",
    "'''\n",
    "\n",
    "def new(pandas_n):\n",
    "    '''\n",
    "      print the the first 3 rows of a given DataFrame\n",
    "\n",
    "      parameters-(pandas dataframe) ;new data frame of the given pandas dataframe\n",
    "\n",
    "      return :None\n",
    "    '''\n",
    "    \n",
    "    print('after taking the first 3 rows\\n',pandas_n.head(3))\n",
    "    # print(x)\n",
    "    \n",
    "\n",
    "\n",
    "def main():\n",
    "    exam_data = {'name': ['Anastasia', 'Dima', 'Katherine', 'James', 'Emily', 'Michael', 'Matthew',\n",
    "'Laura', 'Kevin', 'Jonas'],\n",
    "'score': [12.5, 9, 16.5, np.nan, 9, 20, 14.5, np.nan, 8, 19],\n",
    "'attempts': [1, 3, 2, 3, 2, 3, 1, 1, 2, 1],\n",
    "'qualify': ['yes', 'no', 'yes', 'no', 'no', 'yes', 'yes', 'no', 'no', 'yes']}\n",
    "    labels = ['a', 'b', 'c', 'd', 'e', 'f', 'g', 'h', 'i', 'j']\n",
    "    new_pandas =pd.DataFrame(exam_data,index= labels)\n",
    "\n",
    "    print(\"original panda data frame\\n\",new_pandas)\n",
    "    df =pd.DataFrame(new_pandas,columns=['name','score'])\n",
    "    new(new_pandas)\n",
    "\n",
    "\n",
    "if __name__ == '__main__':\n",
    "    main()"
   ]
  },
  {
   "cell_type": "markdown",
   "metadata": {},
   "source": [
    "8.Write a Python program to select the 'name' and 'score' columns from the following\n",
    "DataFrame"
   ]
  },
  {
   "cell_type": "code",
   "execution_count": 47,
   "metadata": {},
   "outputs": [
    {
     "name": "stdout",
     "output_type": "stream",
     "text": [
      "Original Data frame:\n",
      "         name  score  attempts qualify\n",
      "a  Anastasia   12.5         1     yes\n",
      "b       Dima    9.0         3      no\n",
      "c  Katherine   16.5         2     yes\n",
      "d      James    NaN         3      no\n",
      "e      Emily    9.0         2      no\n",
      "f    Michael   20.0         3     yes\n",
      "g    Matthew   14.5         1     yes\n",
      "h      Laura    NaN         1      no\n",
      "i      Kevin    8.0         2      no\n",
      "j      Jonas   19.0         1     yes\n",
      "--------------------------------------------------------------------------------------------------------------------------------------------------------------------------------------------------------------------------------------------------------------------------------------------------------------------------------------------------------------------------------------------------------------------------------------------------------------------------------------------------------------------\n",
      "Final data frame\n",
      "         name  score\n",
      "a  Anastasia   12.5\n",
      "b       Dima    9.0\n",
      "c  Katherine   16.5\n",
      "d      James    NaN\n",
      "e      Emily    9.0\n",
      "f    Michael   20.0\n",
      "g    Matthew   14.5\n",
      "h      Laura    NaN\n",
      "i      Kevin    8.0\n",
      "j      Jonas   19.0\n"
     ]
    }
   ],
   "source": [
    "'''\n",
    "    @Author: v sanjay kumar\n",
    "    @Date: 2024-08-09 10:00:30\n",
    "    @Last Modified by: v sanjay kumar\n",
    "    @Last Modified time: 2024-08-09 10:00:30.\n",
    "    @Title :program to select the 'name' and 'score' columns from the following DataFrame.\n",
    "\n",
    "'''\n",
    "\n",
    "def score_column(pandas_n):\n",
    "    '''\n",
    "    print the the first 3 rows of a given DataFrame\n",
    "\n",
    "    parameters-(pandas dataframe) : new data frame of the given pandas dataframe\n",
    "\n",
    "    return :None\n",
    "    '''\n",
    "    df=pandas_n[['name','score']]\n",
    "    print('-'*50)\n",
    "    print('Final data frame\\n',df)\n",
    "    \n",
    "    \n",
    "    \n",
    "\n",
    "\n",
    "def main():\n",
    "    exam_data = {'name': ['Anastasia', 'Dima', 'Katherine', 'James', 'Emily', 'Michael', 'Matthew',\n",
    "'Laura', 'Kevin', 'Jonas'],\n",
    "'score': [12.5, 9, 16.5, np.nan, 9, 20, 14.5, np.nan, 8, 19],\n",
    "'attempts': [1, 3, 2, 3, 2, 3, 1, 1, 2, 1],\n",
    "'qualify': ['yes', 'no', 'yes', 'no', 'no', 'yes', 'yes', 'no', 'no', 'yes']}\n",
    "    labels = ['a', 'b', 'c', 'd', 'e', 'f', 'g', 'h', 'i', 'j']\n",
    "    new_pandas =pd.DataFrame(exam_data,index= labels)\n",
    "    print('Original Data frame:\\n',new_pandas)\n",
    "    score_column(new_pandas)\n",
    "\n",
    "\n",
    "\n",
    "if __name__ == '__main__':\n",
    "    main()\n",
    "\n",
    "\n"
   ]
  },
  {
   "cell_type": "markdown",
   "metadata": {},
   "source": [
    "9.Write a Python program to select the specified columns and rows from a given data\n",
    "frame."
   ]
  },
  {
   "cell_type": "code",
   "execution_count": 55,
   "metadata": {},
   "outputs": [
    {
     "name": "stdout",
     "output_type": "stream",
     "text": [
      "Original Data         name  score  attempts qualify\n",
      "a  Anastasia   12.5         1     yes\n",
      "b       Dima    9.0         3      no\n",
      "c  Katherine   16.5         2     yes\n",
      "d      James    NaN         3      no\n",
      "e      Emily    9.0         2      no\n",
      "f    Michael   20.0         3     yes\n",
      "g    Matthew   14.5         1     yes\n",
      "h      Laura    NaN         1      no\n",
      "i      Kevin    8.0         2      no\n",
      "j      Jonas   19.0         1     yes\n",
      "----------------------------------------\n",
      "final data frame is\n",
      "       name  score\n",
      "b     Dima    9.0\n",
      "d    James    NaN\n",
      "f  Michael   20.0\n",
      "g  Matthew   14.5\n"
     ]
    }
   ],
   "source": [
    "'''\n",
    "    @Author: v sanjay kumar\n",
    "    @Date: 2024-08-09 10:00:30\n",
    "    @Last Modified by: v sanjay kumar\n",
    "    @Last Modified time: 2024-08-09 10:00:30.\n",
    "    @Title :program to select the specified columns and rows from a given data\n",
    "\n",
    "'''\n",
    "\n",
    "def main():\n",
    "    exam_data = {'name': ['Anastasia', 'Dima', 'Katherine', 'James', 'Emily', 'Michael', 'Matthew',\n",
    "'Laura', 'Kevin', 'Jonas'],\n",
    "'score': [12.5, 9, 16.5, np.nan, 9, 20, 14.5, np.nan, 8, 19],\n",
    "'attempts': [1, 3, 2, 3, 2, 3, 1, 1, 2, 1],\n",
    "'qualify': ['yes', 'no', 'yes', 'no', 'no', 'yes', 'yes', 'no', 'no', 'yes']}\n",
    "    labels = ['a', 'b', 'c', 'd', 'e', 'f', 'g', 'h', 'i', 'j']\n",
    "    new_pandas =pd.DataFrame(exam_data,index= labels)\n",
    "    \n",
    "    print('Original Data',new_pandas)\n",
    "    iloc_items = new_pandas.iloc[[1,3,5,6],[0,1]]\n",
    "    print('-'*40)\n",
    "    print('final data frame is\\n',iloc_items)\n",
    "\n",
    "\n",
    "if __name__ == '__main__':\n",
    "    main()"
   ]
  },
  {
   "cell_type": "markdown",
   "metadata": {},
   "source": [
    "0. Write a Python program to select the rows where the number of attempts in the\n",
    "examination is greater than 2.\n"
   ]
  },
  {
   "cell_type": "code",
   "execution_count": 72,
   "metadata": {},
   "outputs": [
    {
     "name": "stdout",
     "output_type": "stream",
     "text": [
      "Original Data\n",
      "         name  score  attempts qualify\n",
      "a  Anastasia   12.5         1     yes\n",
      "b       Dima    9.0         3      no\n",
      "c  Katherine   16.5         2     yes\n",
      "d      James    NaN         3      no\n",
      "e      Emily    9.0         2      no\n",
      "f    Michael   20.0         3     yes\n",
      "g    Matthew   14.5         1     yes\n",
      "h      Laura    NaN         1      no\n",
      "i      Kevin    8.0         2      no\n",
      "j      Jonas   19.0         1     yes\n",
      "original data frame\n",
      "         name  score  attempts qualify\n",
      "b       Dima    9.0         3      no\n",
      "c  Katherine   16.5         2     yes\n",
      "d      James    NaN         3      no\n",
      "e      Emily    9.0         2      no\n",
      "f    Michael   20.0         3     yes\n",
      "i      Kevin    8.0         2      no\n"
     ]
    }
   ],
   "source": [
    "'''\n",
    "    @Author: v sanjay kumar\n",
    "    @Date: 2024-08-09 10:00:30\n",
    "    @Last Modified by: v sanjay kumar\n",
    "    @Last Modified time: 2024-08-09 10:00:30.\n",
    "    @Title :program to select the rows where the number of attempts in the\n",
    "            examination is greater than 2.\n",
    "\n",
    "'''\n",
    "\n",
    "def grater_2(panda_1):\n",
    "    df =panda_1[panda_1['attempts']>=2]\n",
    "\n",
    "    print('original data frame\\n',df)\n",
    "    \n",
    "\n",
    "def main():\n",
    "    exam_data = {'name': ['Anastasia', 'Dima', 'Katherine', 'James', 'Emily', 'Michael', 'Matthew',\n",
    "'Laura', 'Kevin', 'Jonas'],\n",
    "'score': [12.5, 9, 16.5, np.nan, 9, 20, 14.5, np.nan, 8, 19],\n",
    "'attempts': [1, 3, 2, 3, 2, 3, 1, 1, 2, 1],\n",
    "'qualify': ['yes', 'no', 'yes', 'no', 'no', 'yes', 'yes', 'no', 'no', 'yes']}\n",
    "    labels = ['a', 'b', 'c', 'd', 'e', 'f', 'g', 'h', 'i', 'j']\n",
    "    new_pandas =pd.DataFrame(exam_data,index= labels)\n",
    "    \n",
    "    print('Original Data\\n',new_pandas)\n",
    "    grater_2(new_pandas)\n",
    "\n",
    "\n",
    "if __name__ == '__main__':\n",
    "    main()"
   ]
  },
  {
   "cell_type": "markdown",
   "metadata": {},
   "source": [
    "12.Write a Python program to count the number of rows and columns of a DataFrame.\n"
   ]
  },
  {
   "cell_type": "code",
   "execution_count": 60,
   "metadata": {},
   "outputs": [
    {
     "name": "stdout",
     "output_type": "stream",
     "text": [
      "The total number of rows  10\n",
      "Total number of colomuns 4\n"
     ]
    }
   ],
   "source": [
    "'''\n",
    "    @Author: v sanjay kumar\n",
    "    @Date: 2024-08-09 02:00:30\n",
    "    @Last Modified by: v sanjay kumar\n",
    "    @Last Modified time: 2024-08-09 02:00:30.\n",
    "    @Title :program to count the number of rows and coloumns of a DataFrame.\n",
    "\n",
    "'''\n",
    "\n",
    "def main():\n",
    "    exam_data = {'name': ['Anastasia', 'Dima', 'Katherine', 'James', 'Emily', 'Michael', 'Matthew',\n",
    "'Laura', 'Kevin', 'Jonas'],\n",
    "'score': [12.5, 9, 16.5, np.nan, 9, 20, 14.5, np.nan, 8, 19],\n",
    "'attempts': [1, 3, 2, 3, 2, 3, 1, 1, 2, 1],\n",
    "'qualify': ['yes', 'no', 'yes', 'no', 'no', 'yes', 'yes', 'no', 'no', 'yes']}\n",
    "    labels = ['a', 'b', 'c', 'd', 'e', 'f', 'g', 'h', 'i', 'j']\n",
    "    new_pandas =pd.DataFrame(exam_data,index= labels)\n",
    "    \n",
    "\n",
    "    no_rows,no_cols = new_pandas.shape\n",
    "\n",
    "    print(\"The total number of rows \",no_rows)\n",
    "    print(\"Total number of colomuns\",no_cols)\n",
    "\n",
    "\n",
    "if __name__ == \"__main__\":\n",
    "    main()"
   ]
  },
  {
   "cell_type": "markdown",
   "metadata": {},
   "source": [
    "12. Write a Python program to select the rows where the score is missing, i.e. is NaN."
   ]
  },
  {
   "cell_type": "code",
   "execution_count": 69,
   "metadata": {},
   "outputs": [
    {
     "name": "stdout",
     "output_type": "stream",
     "text": [
      "Null values\n",
      " 2\n",
      "    name  score  attempts qualify\n",
      "j  Jonas   19.0         1     yes\n"
     ]
    }
   ],
   "source": [
    "'''\n",
    "    @Author: v sanjay kumar\n",
    "    @Date: 2024-08-09 02:00:30\n",
    "    @Last Modified by: v sanjay kumar\n",
    "    @Last Modified time: 2024-08-09 02:00:30.\n",
    "    @Title :program to select the rows where the score is missing, i.e. is NaN.\n",
    "\n",
    "'''\n",
    "\n",
    "\n",
    "def main():\n",
    "    exam_data = {'name': ['Anastasia', 'Dima', 'Katherine', 'James', 'Emily', 'Michael', 'Matthew',\n",
    "'Laura', 'Kevin', 'Jonas'],\n",
    "'score': [12.5, 9, 16.5, np.nan, 9, 20, 14.5, np.nan, 8, 19],\n",
    "'attempts': [1, 3, 2, 3, 2, 3, 1, 1, 2, 1],\n",
    "'qualify': ['yes', 'no', 'yes', 'no', 'no', 'yes', 'yes', 'no', 'no', 'yes']}\n",
    "    labels = ['a', 'b', 'c', 'd', 'e', 'f', 'g', 'h', 'i', 'j']\n",
    "    df =pd.DataFrame(exam_data,index= labels)\n",
    " \n",
    "    null_values=df.isnull().sum().sum()\n",
    "    print('Null values\\n',null_values)\n",
    "    \n",
    "\n",
    "if __name__ == '__main__':\n",
    "    main()"
   ]
  },
  {
   "cell_type": "markdown",
   "metadata": {},
   "source": [
    "13.Write a Python program to select the rows where number of attempts in the examination is less than 2 and score greater than 15."
   ]
  },
  {
   "cell_type": "code",
   "execution_count": 71,
   "metadata": {},
   "outputs": [
    {
     "name": "stdout",
     "output_type": "stream",
     "text": [
      "rows where number of attempts in the examination is less than 2 and score greater than 15.\n",
      "     name  score  attempts qualify\n",
      "j  Jonas   19.0         1     yes\n"
     ]
    }
   ],
   "source": [
    "'''\n",
    "    @Author: v sanjay kumar\n",
    "    @Date: 2024-08-09 02:00:30\n",
    "    @Last Modified by: v sanjay kumar\n",
    "    @Last Modified time: 2024-08-09 02:00:30.\n",
    "    @Title :program to select the rows where number of attempts in the \n",
    "            examination is less than 2 and score greater than 15.\n",
    "'''\n",
    "\n",
    "def main():\n",
    "    exam_data = {'name': ['Anastasia', 'Dima', 'Katherine', 'James', 'Emily', 'Michael', 'Matthew',\n",
    "'Laura', 'Kevin', 'Jonas'],\n",
    "'score': [12.5, 9, 16.5, np.nan, 9, 20, 14.5, np.nan, 8, 19],\n",
    "'attempts': [1, 3, 2, 3, 2, 3, 1, 1, 2, 1],\n",
    "'qualify': ['yes', 'no', 'yes', 'no', 'no', 'yes', 'yes', 'no', 'no', 'yes']}\n",
    "    labels = ['a', 'b', 'c', 'd', 'e', 'f', 'g', 'h', 'i', 'j']\n",
    "    df =pd.DataFrame(exam_data,index= labels)\n",
    "   \n",
    "\n",
    "    x=df[(df['attempts'] < 2) & (df['score'] > 15)]\n",
    "\n",
    "    print('rows where number of attempts in the examination is less than 2 and score greater than 15.\\n',x)\n",
    "\n",
    "\n",
    "if __name__ == '__main__':\n",
    "    main()\n",
    "\n"
   ]
  },
  {
   "cell_type": "markdown",
   "metadata": {},
   "source": [
    "14. Write a Python program to change the score in row 'd' to 11.5"
   ]
  },
  {
   "cell_type": "code",
   "execution_count": 82,
   "metadata": {},
   "outputs": [
    {
     "name": "stdout",
     "output_type": "stream",
     "text": [
      "        name  score  attempts qualify\n",
      "a  Anastasia   12.5         1     yes\n",
      "b       Dima    9.0         3      no\n",
      "c  Katherine   16.5         2     yes\n",
      "d      James   11.5         3      no\n",
      "e      Emily    9.0         2      no\n",
      "f    Michael   20.0         3     yes\n",
      "g    Matthew   14.5         1     yes\n",
      "h      Laura    NaN         1      no\n",
      "i      Kevin    8.0         2      no\n",
      "j      Jonas   19.0         1     yes\n"
     ]
    }
   ],
   "source": [
    "'''\n",
    "    @Author: v sanjay kumar\n",
    "    @Date: 2024-08-09 02:00:30\n",
    "    @Last Modified by: v sanjay kumar\n",
    "    @Last Modified time: 2024-08-09 02:00:30.\n",
    "    @Title :program to change the score in row 'd' to 11.5 .\n",
    "'''\n",
    "\n",
    "def main():\n",
    "    exam_data = {'name': ['Anastasia', 'Dima', 'Katherine', 'James', 'Emily', 'Michael', 'Matthew',\n",
    "'Laura', 'Kevin', 'Jonas'],\n",
    "'score': [12.5, 9, 16.5, np.nan, 9, 20, 14.5, np.nan, 8, 19],\n",
    "'attempts': [1, 3, 2, 3, 2, 3, 1, 1, 2, 1],\n",
    "'qualify': ['yes', 'no', 'yes', 'no', 'no', 'yes', 'yes', 'no', 'no', 'yes']}\n",
    "    labels = ['a', 'b', 'c', 'd', 'e', 'f', 'g', 'h', 'i', 'j']\n",
    "    df =pd.DataFrame(exam_data,index= labels)\n",
    "\n",
    "    df.loc['d',['score']]=11.5\n",
    "    print(df)\n",
    "   \n",
    "if __name__ == '__main__':\n",
    "    main()"
   ]
  },
  {
   "cell_type": "markdown",
   "metadata": {},
   "source": [
    "15.Write a Python program to calculate the sum of the examination attempts by the\n",
    "students."
   ]
  },
  {
   "cell_type": "code",
   "execution_count": 89,
   "metadata": {},
   "outputs": [
    {
     "name": "stdout",
     "output_type": "stream",
     "text": [
      "The total sum of the attempts of the student\n",
      " 19\n"
     ]
    }
   ],
   "source": [
    "'''\n",
    "    @Author: v sanjay kumar\n",
    "    @Date: 2024-08-09 03:00:30\n",
    "    @Last Modified by: v sanjay kumar\n",
    "    @Last Modified time: 2024-08-09 03:00:30.\n",
    "    @Title :program to calculate the sum of the examination attempts by the students.\n",
    "\n",
    "'''\n",
    "\n",
    "def new_sum(pandas_new):\n",
    "    ''' \n",
    "    caluculate the sum of the examnation attempts by the students \n",
    "\n",
    "\n",
    "    parameters(dataframe ) :pandas_new \n",
    "    \n",
    "    return(int):Total attempts of the student attempts.\n",
    "\n",
    "    '''\n",
    "    \n",
    "\n",
    "    total_sum =pandas_new['attempts'].sum()\n",
    "    \n",
    "    return total_sum\n",
    "\n",
    "def main():\n",
    "    exam_data = {'name': ['Anastasia', 'Dima', 'Katherine', 'James', 'Emily', 'Michael', 'Matthew',\n",
    "    'Laura', 'Kevin', 'Jonas'],\n",
    "    'score': [12.5, 9, 16.5, np.nan, 9, 20, 14.5, np.nan, 8, 19],\n",
    "    'attempts': [1, 3, 2, 3, 2, 3, 1, 1, 2, 1],\n",
    "    'qualify': ['yes', 'no', 'yes', 'no', 'no', 'yes', 'yes', 'no', 'no', 'yes']}\n",
    "    labels = ['a', 'b', 'c', 'd', 'e', 'f', 'g', 'h', 'i', 'j']\n",
    "\n",
    "    new_data=pd.DataFrame(exam_data, index=labels)\n",
    "    \n",
    "\n",
    "    print(\"The Total sum of the attempts of the students\\n\",new_sum(new_data))\n",
    "\n",
    "\n",
    "if __name__ == '__main__':\n",
    "    main()"
   ]
  },
  {
   "cell_type": "markdown",
   "metadata": {},
   "source": [
    "16.Write a Python program to calculate the mean score for each different student in\n",
    "DataFrame.\n"
   ]
  },
  {
   "cell_type": "code",
   "execution_count": 94,
   "metadata": {},
   "outputs": [
    {
     "name": "stdout",
     "output_type": "stream",
     "text": [
      "name\n",
      "Anastasia    12.5\n",
      "Dima          9.0\n",
      "Emily         9.0\n",
      "James         NaN\n",
      "Jonas        19.0\n",
      "Katherine    16.5\n",
      "Kevin         8.0\n",
      "Laura         NaN\n",
      "Matthew      14.5\n",
      "Michael      20.0\n",
      "Name: score, dtype: float64\n"
     ]
    }
   ],
   "source": [
    "'''\n",
    "    @Author: v sanjay kumar\n",
    "    @Date: 2024-08-09 02:00:30\n",
    "    @Last Modified by: v sanjay kumar\n",
    "    @Last Modified time: 2024-08-09 02:00:30.\n",
    "    @Title :program to calculate the mean score for each different student in DataFrame. .\n",
    "    \n",
    "'''\n",
    "\n",
    "def mean_to(new):\n",
    "    '''caluculate the mean score of the each different student.\n",
    "\n",
    "    parameters(dataframe ) :new\n",
    "\n",
    "    return(dataframe): a data frame which contains the mean and student\n",
    "\n",
    "    '''\n",
    "\n",
    "    new_data =new.groupby('name')['score'].mean()\n",
    "\n",
    "    return new_data\n",
    "    \n",
    "\n",
    "def main():\n",
    "    exam_data = {'name': ['Anastasia', 'Dima', 'Katherine', 'James', 'Emily', 'Michael', 'Matthew',\n",
    "    'Laura', 'Kevin', 'Jonas'],\n",
    "    'score': [12.5, 9, 16.5, np.nan, 9, 20, 14.5, np.nan, 8, 19],\n",
    "    'attempts': [1, 3, 2, 3, 2, 3, 1, 1, 2, 1],\n",
    "    'qualify': ['yes', 'no', 'yes', 'no', 'no', 'yes', 'yes', 'no', 'no', 'yes']}\n",
    "    labels = ['a', 'b', 'c', 'd', 'e', 'f', 'g', 'h', 'i', 'j']\n",
    "\n",
    "    origina_data=pd.DataFrame(exam_data, index=labels)\n",
    "\n",
    "\n",
    "    print(mean_to(origina_data))\n",
    "\n",
    "\n",
    "if __name__ == '__main__':\n",
    "    main()\n",
    "\n"
   ]
  },
  {
   "cell_type": "markdown",
   "metadata": {},
   "source": [
    "17.Write a Python program to append a new row 'k' to data frame with given values for\n",
    "each column. Now delete the new row and return the original DataFrame.\n"
   ]
  },
  {
   "cell_type": "code",
   "execution_count": 100,
   "metadata": {},
   "outputs": [
    {
     "name": "stdout",
     "output_type": "stream",
     "text": [
      "original data\n",
      "         name  score  attempts qualify\n",
      "a  Anastasia   12.5         1     yes\n",
      "b       Dima    9.0         3      no\n",
      "c  Katherine   16.5         2     yes\n",
      "d      James    NaN         3      no\n",
      "e      Emily    9.0         2      no\n",
      "f    Michael   20.0         3     yes\n",
      "g    Matthew   14.5         1     yes\n",
      "h      Laura    NaN         1      no\n",
      "i      Kevin    8.0         2      no\n",
      "j      Jonas   19.0         1     yes\n",
      "new data\n",
      "         name  score attempts qualify\n",
      "a  Anastasia   12.5        1     yes\n",
      "b       Dima    9.0        3      no\n",
      "c  Katherine   16.5        2     yes\n",
      "d      James    NaN        3      no\n",
      "e      Emily    9.0        2      no\n",
      "f    Michael   20.0        3     yes\n",
      "g    Matthew   14.5        1     yes\n",
      "h      Laura    NaN        1      no\n",
      "i      Kevin    8.0        2      no\n",
      "j      Jonas   19.0        1     yes\n",
      "k     suresh   15.5        1     yes\n",
      "original data\n",
      "         name  score attempts qualify\n",
      "a  Anastasia   12.5        1     yes\n",
      "b       Dima    9.0        3      no\n",
      "c  Katherine   16.5        2     yes\n",
      "d      James    NaN        3      no\n",
      "e      Emily    9.0        2      no\n",
      "f    Michael   20.0        3     yes\n",
      "g    Matthew   14.5        1     yes\n",
      "h      Laura    NaN        1      no\n",
      "i      Kevin    8.0        2      no\n",
      "j      Jonas   19.0        1     yes\n"
     ]
    }
   ],
   "source": [
    "'''\n",
    "    @Author: v sanjay kumar\n",
    "    @Date: 2024-08-09 02:00:30\n",
    "    @Last Modified by: v sanjay kumar\n",
    "    @Last Modified time: 2024-08-09 02:00:30.\n",
    "    @Title :program to  append a new row 'k' to data frame with given values for\n",
    "        each column. Now delete the new row and return the original DataFrame.\n",
    "\n",
    "'''\n",
    "\n",
    "def cred_operations(data):\n",
    "     '''adding to k row to the data and delete the k row\n",
    "\n",
    "    parameters(dataframe ) :data\n",
    "\n",
    "    return(dataframe):original data frame.\n",
    "\n",
    "    '''\n",
    "     data.loc['k']=['suresh',15.5,'1','yes']\n",
    "     print('new data\\n',data)\n",
    "     data=data.drop('k')\n",
    "     print('original data\\n',data)\n",
    "\n",
    "\n",
    "def main():\n",
    "    exam_data = {'name': ['Anastasia', 'Dima', 'Katherine', 'James', 'Emily', 'Michael', 'Matthew',\n",
    "    'Laura', 'Kevin', 'Jonas'],\n",
    "    'score': [12.5, 9, 16.5, np.nan, 9, 20, 14.5, np.nan, 8, 19],\n",
    "    'attempts': [1, 3, 2, 3, 2, 3, 1, 1, 2, 1],\n",
    "    'qualify': ['yes', 'no', 'yes', 'no', 'no', 'yes', 'yes', 'no', 'no', 'yes']}\n",
    "    labels = ['a', 'b', 'c', 'd', 'e', 'f', 'g', 'h', 'i', 'j']\n",
    "    \n",
    "    original_data=pd.DataFrame(exam_data, index=labels)\n",
    "    print(\"original data\\n\",original_data)\n",
    "\n",
    "    cred_operations(original_data)\n",
    "\n",
    "\n",
    "if __name__ == \"__main__\":\n",
    "     main()"
   ]
  },
  {
   "cell_type": "markdown",
   "metadata": {},
   "source": [
    "18. Write a Python program to sort the DataFrame first by 'name' in descending order,\n",
    "then by 'score' in ascending order.\n"
   ]
  },
  {
   "cell_type": "code",
   "execution_count": 104,
   "metadata": {},
   "outputs": [
    {
     "name": "stdout",
     "output_type": "stream",
     "text": [
      "intial Original data\n",
      "         name  score  attempts qualify\n",
      "a  Anastasia   12.5         1     yes\n",
      "b       Dima    9.0         3      no\n",
      "c  Katherine   16.5         2     yes\n",
      "d      James    NaN         3      no\n",
      "e      Emily    9.0         2      no\n",
      "f    Michael   20.0         3     yes\n",
      "g    Matthew   14.5         1     yes\n",
      "h      Laura    NaN         1      no\n",
      "i      Kevin    8.0         2      no\n",
      "j      Jonas   19.0         1     yes\n",
      "Ater sorting by name in descending order\n",
      "         name  score  attempts qualify\n",
      "f    Michael   20.0         3     yes\n",
      "g    Matthew   14.5         1     yes\n",
      "h      Laura    NaN         1      no\n",
      "i      Kevin    8.0         2      no\n",
      "c  Katherine   16.5         2     yes\n",
      "j      Jonas   19.0         1     yes\n",
      "d      James    NaN         3      no\n",
      "e      Emily    9.0         2      no\n",
      "b       Dima    9.0         3      no\n",
      "a  Anastasia   12.5         1     yes\n",
      "After making the score in ascending order\n",
      "         name  score  attempts qualify\n",
      "i      Kevin    8.0         2      no\n",
      "e      Emily    9.0         2      no\n",
      "b       Dima    9.0         3      no\n",
      "a  Anastasia   12.5         1     yes\n",
      "g    Matthew   14.5         1     yes\n",
      "c  Katherine   16.5         2     yes\n",
      "j      Jonas   19.0         1     yes\n",
      "f    Michael   20.0         3     yes\n",
      "h      Laura    NaN         1      no\n",
      "d      James    NaN         3      no\n"
     ]
    }
   ],
   "source": [
    "'''\n",
    "    @Author: v sanjay kumar\n",
    "    @Date: 2024-08-09 02:00:30\n",
    "    @Last Modified by: v sanjay kumar\n",
    "    @Last Modified time: 2024-08-09 02:00:30.\n",
    "    @Title :program to  sort the DataFrame first by 'name' in descending order,\n",
    "       then by 'score' in ascending order.\n",
    "\n",
    "    '''\n",
    "def sorting_data(data):\n",
    "    sorted_data=data.sort_values(by='name', ascending=False)\n",
    "    print('Ater sorting by name in descending order\\n',sorted_data)\n",
    "\n",
    "    new_sorted_data =sorted_data.sort_values(by='score', ascending=True)\n",
    "\n",
    "    return new_sorted_data\n",
    "\n",
    "\n",
    "def main():\n",
    "    exam_data = {'name': ['Anastasia', 'Dima', 'Katherine', 'James', 'Emily', 'Michael', 'Matthew',\n",
    "    'Laura', 'Kevin', 'Jonas'],\n",
    "    'score': [12.5, 9, 16.5, np.nan, 9, 20, 14.5, np.nan, 8, 19],\n",
    "    'attempts': [1, 3, 2, 3, 2, 3, 1, 1, 2, 1],\n",
    "    'qualify': ['yes', 'no', 'yes', 'no', 'no', 'yes', 'yes', 'no', 'no', 'yes']}\n",
    "    labels = ['a', 'b', 'c', 'd', 'e', 'f', 'g', 'h', 'i', 'j']\n",
    "    original_data=pd.DataFrame(exam_data, index=labels)\n",
    "    print('intial Original data\\n',original_data)\n",
    "\n",
    "    print(\"After making the score in ascending order\\n\", sorting_data(original_data))\n",
    "\n",
    "\n",
    "if __name__ == '__main__':\n",
    "     main()"
   ]
  },
  {
   "cell_type": "markdown",
   "metadata": {},
   "source": [
    "19.Write a Python program to replace the 'qualify' column contains the values 'yes' and\n",
    "'no' with True and False."
   ]
  },
  {
   "cell_type": "code",
   "execution_count": 11,
   "metadata": {},
   "outputs": [
    {
     "name": "stdout",
     "output_type": "stream",
     "text": [
      "intial Original data\n",
      "         name  score  attempts qualify\n",
      "a  Anastasia   12.5         1     yes\n",
      "b       Dima    9.0         3      no\n",
      "c  Katherine   16.5         2     yes\n",
      "d      James    NaN         3      no\n",
      "e      Emily    9.0         2      no\n",
      "f    Michael   20.0         3     yes\n",
      "g    Matthew   14.5         1     yes\n",
      "h      Laura    NaN         1      no\n",
      "i      Kevin    8.0         2      no\n",
      "j      Jonas   19.0         1     yes\n",
      "After changing the data in Data frame\n",
      "         name  score  attempts qualify\n",
      "a  Anastasia   12.5         1    True\n",
      "b       Dima    9.0         3   False\n",
      "c  Katherine   16.5         2    True\n",
      "d      James    NaN         3   False\n",
      "e      Emily    9.0         2   False\n",
      "f    Michael   20.0         3    True\n",
      "g    Matthew   14.5         1    True\n",
      "h      Laura    NaN         1   False\n",
      "i      Kevin    8.0         2   False\n",
      "j      Jonas   19.0         1    True\n"
     ]
    }
   ],
   "source": [
    "'''\n",
    "    @Author: v sanjay kumar\n",
    "    @Date: 2024-08-09 04:00:30\n",
    "    @Last Modified by: v sanjay kumar\n",
    "    @Last Modified time: 2024-08-09 04:00:30.\n",
    "    @Title :program to replace the 'qualify' column contains the values 'yes' and 'no' with True and False.\n",
    "\n",
    "    '''\n",
    "import numpy as np\n",
    "import pandas as pd\n",
    "def main():\n",
    "    exam_data = {'name': ['Anastasia', 'Dima', 'Katherine', 'James', 'Emily', 'Michael', 'Matthew',\n",
    "    'Laura', 'Kevin', 'Jonas'],\n",
    "    'score': [12.5, 9, 16.5, np.nan, 9, 20, 14.5, np.nan, 8, 19],\n",
    "    'attempts': [1, 3, 2, 3, 2, 3, 1, 1, 2, 1],\n",
    "    'qualify': ['yes', 'no', 'yes', 'no', 'no', 'yes', 'yes', 'no', 'no', 'yes']}\n",
    "    labels = ['a', 'b', 'c', 'd', 'e', 'f', 'g', 'h', 'i', 'j']\n",
    "    original_data=pd.DataFrame(exam_data, index=labels)\n",
    "    print('intial Original data\\n',original_data)\n",
    "\n",
    "    x=original_data.replace(to_replace=['yes','no'],value=['True', 'False'])\n",
    "    \n",
    "    print(\"After changing the data in Data frame\\n\",x)\n",
    "\n",
    "\n",
    "if __name__ == '__main__':\n",
    "    main()"
   ]
  },
  {
   "cell_type": "markdown",
   "metadata": {},
   "source": [
    "20.Write a Python program to delete the 'attempts' column from the DataFrame.\n"
   ]
  },
  {
   "cell_type": "code",
   "execution_count": 15,
   "metadata": {},
   "outputs": [
    {
     "name": "stdout",
     "output_type": "stream",
     "text": [
      "Initial Original data\n",
      "         name  score  attempts qualify\n",
      "a  Anastasia   12.5         1     yes\n",
      "b       Dima    9.0         3      no\n",
      "c  Katherine   16.5         2     yes\n",
      "d      James    NaN         3      no\n",
      "e      Emily    9.0         2      no\n",
      "f    Michael   20.0         3     yes\n",
      "g    Matthew   14.5         1     yes\n",
      "h      Laura    NaN         1      no\n",
      "i      Kevin    8.0         2      no\n",
      "j      Jonas   19.0         1     yes\n",
      "After dropping attempts column\n",
      "    score  attempts qualify\n",
      "a   12.5         1     yes\n",
      "b    9.0         3      no\n",
      "c   16.5         2     yes\n",
      "d    NaN         3      no\n",
      "e    9.0         2      no\n",
      "f   20.0         3     yes\n",
      "g   14.5         1     yes\n",
      "h    NaN         1      no\n",
      "i    8.0         2      no\n",
      "j   19.0         1     yes\n"
     ]
    }
   ],
   "source": [
    "'''\n",
    "    @Author: v sanjay kumar\n",
    "    @Date: 2024-08-09 04:00:30\n",
    "    @Last Modified by: v sanjay kumar\n",
    "    @Last Modified time: 2024-08-09 04:00:30.\n",
    "    @Title :program to delete the 'attempts' column from the DataFrame.\n",
    "'''\n",
    "\n",
    "import pandas as pd\n",
    "import numpy as np\n",
    "\n",
    "def main():\n",
    "    exam_data = {'name': ['Anastasia', 'Dima', 'Katherine', 'James', 'Emily', 'Michael', 'Matthew',\n",
    "    'Laura', 'Kevin', 'Jonas'],\n",
    "    'score': [12.5, 9, 16.5, np.nan, 9, 20, 14.5, np.nan, 8, 19],\n",
    "    'attempts': [1, 3, 2, 3, 2, 3, 1, 1, 2, 1],\n",
    "    'qualify': ['yes', 'no', 'yes', 'no', 'no', 'yes', 'yes', 'no', 'no', 'yes']}\n",
    "    labels = ['a', 'b', 'c', 'd', 'e', 'f', 'g', 'h', 'i', 'j']\n",
    "    original_data = pd.DataFrame(exam_data, index=labels)\n",
    "    print('Initial Original data\\n', original_data)\n",
    "\n",
    "    # Corrected line to drop the 'attempts' column\n",
    "    original_data.drop('attempts', axis=1, inplace=True)\n",
    "\n",
    "    print('After dropping attempts column\\n', original_data)\n",
    "\n",
    "if __name__ == '__main__':\n",
    "    main()\n"
   ]
  },
  {
   "cell_type": "markdown",
   "metadata": {},
   "source": [
    "21. Write a Python program to insert a new column in existing DataFrame."
   ]
  },
  {
   "cell_type": "code",
   "execution_count": 19,
   "metadata": {},
   "outputs": [
    {
     "name": "stdout",
     "output_type": "stream",
     "text": [
      "Initial Original data\n",
      "         name  score  attempts qualify\n",
      "a  Anastasia   12.5         1     yes\n",
      "b       Dima    9.0         3      no\n",
      "c  Katherine   16.5         2     yes\n",
      "d      James    NaN         3      no\n",
      "e      Emily    9.0         2      no\n",
      "f    Michael   20.0         3     yes\n",
      "g    Matthew   14.5         1     yes\n",
      "h      Laura    NaN         1      no\n",
      "i      Kevin    8.0         2      no\n",
      "j      Jonas   19.0         1     yes\n",
      "After adding the remaing elements \n",
      "         name  score  attempts qualify  remaing_attempts\n",
      "a  Anastasia   12.5         1     yes                 1\n",
      "b       Dima    9.0         3      no                 3\n",
      "c  Katherine   16.5         2     yes                 4\n",
      "d      James    NaN         3      no                 2\n",
      "e      Emily    9.0         2      no                 2\n",
      "f    Michael   20.0         3     yes                 3\n",
      "g    Matthew   14.5         1     yes                 4\n",
      "h      Laura    NaN         1      no                 2\n",
      "i      Kevin    8.0         2      no                 2\n",
      "j      Jonas   19.0         1     yes                 1\n"
     ]
    }
   ],
   "source": [
    "'''\n",
    "    @Author: v sanjay kumar\n",
    "    @Date: 2024-08-09 04:00:30\n",
    "    @Last Modified by: v sanjay kumar\n",
    "    @Last Modified time: 2024-08-09 04:00:30.\n",
    "    @Title :program to delete the 'attempts' column from the DataFrame.\n",
    "\n",
    "'''\n",
    "\n",
    "\n",
    "import pandas as pd\n",
    "import numpy as np\n",
    "\n",
    "def main():\n",
    "    exam_data = {'name': ['Anastasia', 'Dima', 'Katherine', 'James', 'Emily', 'Michael', 'Matthew',\n",
    "    'Laura', 'Kevin', 'Jonas'],\n",
    "    'score': [12.5, 9, 16.5, np.nan, 9, 20, 14.5, np.nan, 8, 19],\n",
    "    'attempts': [1, 3, 2, 3, 2, 3, 1, 1, 2, 1],\n",
    "    'qualify': ['yes', 'no', 'yes', 'no', 'no', 'yes', 'yes', 'no', 'no', 'yes']}\n",
    "    labels = ['a', 'b', 'c', 'd', 'e', 'f', 'g', 'h', 'i', 'j']\n",
    "    original_data = pd.DataFrame(exam_data, index=labels)\n",
    "    print('Initial Original data\\n', original_data)\n",
    "    addres=[2,4,5,3,2,2,4,2,7,6]\n",
    "    #original_data['addres'] = addres\n",
    "    x=original_data.assign(remaing_attempts=[1,3,4,2,2,3,4,2,2,1,])\n",
    "    print('After adding the remaing elements \\n',x)\n",
    "    \n",
    "if __name__ =='__main__':\n",
    "    main()"
   ]
  },
  {
   "cell_type": "markdown",
   "metadata": {},
   "source": [
    "22. Write a Python program to iterate over rows in a DataFrame.\n"
   ]
  },
  {
   "cell_type": "code",
   "execution_count": 14,
   "metadata": {},
   "outputs": [
    {
     "name": "stdout",
     "output_type": "stream",
     "text": [
      "Initial Original data\n",
      "         name  score  attempts qualify\n",
      "a  Anastasia   12.5         1     yes\n",
      "b       Dima    9.0         3      no\n",
      "c  Katherine   16.5         2     yes\n",
      "d      James    NaN         3      no\n",
      "e      Emily    9.0         2      no\n",
      "f    Michael   20.0         3     yes\n",
      "g    Matthew   14.5         1     yes\n",
      "h      Laura    NaN         1      no\n",
      "i      Kevin    8.0         2      no\n",
      "j      Jonas   19.0         1     yes\n",
      "name: Anastasia Score: 12.5 Attempts: 1 Qualify: yes\n",
      "name: Dima Score: 9.0 Attempts: 3 Qualify: no\n",
      "name: Katherine Score: 16.5 Attempts: 2 Qualify: yes\n",
      "name: James Score: nan Attempts: 3 Qualify: no\n",
      "name: Emily Score: 9.0 Attempts: 2 Qualify: no\n",
      "name: Michael Score: 20.0 Attempts: 3 Qualify: yes\n",
      "name: Matthew Score: 14.5 Attempts: 1 Qualify: yes\n",
      "name: Laura Score: nan Attempts: 1 Qualify: no\n",
      "name: Kevin Score: 8.0 Attempts: 2 Qualify: no\n",
      "name: Jonas Score: 19.0 Attempts: 1 Qualify: yes\n"
     ]
    }
   ],
   "source": [
    "'''\n",
    "    @Author: v sanjay kumar\n",
    "    @Date: 2024-08-09 04:00:30\n",
    "    @Last Modified by: v sanjay kumar\n",
    "    @Last Modified time: 2024-08-09 04:00:30.\n",
    "    @Title :program to delete the 'attempts' column from the DataFrame.\n",
    "\n",
    "'''\n",
    "\n",
    "import pandas as pd\n",
    "import numpy as np\n",
    "\n",
    "def main():\n",
    "    exam_data = {'name': ['Anastasia', 'Dima', 'Katherine', 'James', 'Emily', 'Michael', 'Matthew',\n",
    "    'Laura', 'Kevin', 'Jonas'],\n",
    "    'score': [12.5, 9, 16.5, np.nan, 9, 20, 14.5, np.nan, 8, 19],\n",
    "    'attempts': [1, 3, 2, 3, 2, 3, 1, 1, 2, 1],\n",
    "    'qualify': ['yes', 'no', 'yes', 'no', 'no', 'yes', 'yes', 'no', 'no', 'yes']}\n",
    "    labels = ['a', 'b', 'c', 'd', 'e', 'f', 'g', 'h', 'i', 'j']\n",
    "    original_data = pd.DataFrame(exam_data, index=labels)\n",
    "    print('Initial Original data\\n', original_data)\n",
    "\n",
    "    # Corrected iteration over rows\n",
    "    for index, row in original_data.iterrows():\n",
    "        print(f\"name: {row['name']} Score: {row['score']} Attempts: {row['attempts']} Qualify: {row['qualify']}\")\n",
    "\n",
    "if __name__ == '__main__':\n",
    "    main()\n"
   ]
  },
  {
   "cell_type": "markdown",
   "metadata": {},
   "source": [
    "23. Write a Python program to get list from DataFrame column headers."
   ]
  },
  {
   "cell_type": "code",
   "execution_count": 13,
   "metadata": {},
   "outputs": [
    {
     "name": "stdout",
     "output_type": "stream",
     "text": [
      "Initial Original data\n",
      "         Name  Score  Attempts Qualify\n",
      "a  Anastasia   12.5         1     yes\n",
      "b       Dima    9.0         3      no\n",
      "c  Katherine   16.5         2     yes\n",
      "d      James    NaN         3      no\n",
      "e      Emily    9.0         2      no\n",
      "f    Michael   20.0         3     yes\n",
      "g    Matthew   14.5         1     yes\n",
      "h      Laura    NaN         1      no\n",
      "i      Kevin    8.0         2      no\n",
      "j      Jonas   19.0         1     yes\n",
      "Header Of DataFrame\n",
      "Name\n",
      "Score\n",
      "Attempts\n",
      "Qualify\n"
     ]
    }
   ],
   "source": [
    "import numpy as np\n",
    "import pandas as pd\n",
    "'''\n",
    "    @Author: v sanjay kumar\n",
    "    @Date: 2024-08-09 04:00:30\n",
    "    @Last Modified by: v sanjay kumar\n",
    "    @Last Modified time: 2024-08-09 04:00:30.\n",
    "    @Title :program to  get list from DataFrame column headers.\n",
    "'''\n",
    "\n",
    "def main():\n",
    "    exam_data = {'Name': ['Anastasia', 'Dima', 'Katherine', 'James', 'Emily', 'Michael', 'Matthew',\n",
    "    'Laura', 'Kevin', 'Jonas'],\n",
    "    'Score': [12.5, 9, 16.5, np.nan, 9, 20, 14.5, np.nan, 8, 19],\n",
    "    'Attempts': [1, 3, 2, 3, 2, 3, 1, 1, 2, 1],\n",
    "    'Qualify': ['yes', 'no', 'yes', 'no', 'no', 'yes', 'yes', 'no', 'no', 'yes']}\n",
    "    labels = ['a', 'b', 'c', 'd', 'e', 'f', 'g', 'h', 'i', 'j']\n",
    "    original_data = pd.DataFrame(exam_data, index=labels)\n",
    "    print('Initial Original data\\n', original_data)\n",
    "    \n",
    "    \n",
    "    print(\"Header Of DataFrame\")\n",
    "    for  i in original_data:\n",
    "        print(i)\n",
    "\n",
    "\n",
    "if __name__ == '__main__':\n",
    "    main()"
   ]
  }
 ],
 "metadata": {
  "kernelspec": {
   "display_name": "Python 3",
   "language": "python",
   "name": "python3"
  },
  "language_info": {
   "codemirror_mode": {
    "name": "ipython",
    "version": 3
   },
   "file_extension": ".py",
   "mimetype": "text/x-python",
   "name": "python",
   "nbconvert_exporter": "python",
   "pygments_lexer": "ipython3",
   "version": "3.12.4"
  }
 },
 "nbformat": 4,
 "nbformat_minor": 2
}
